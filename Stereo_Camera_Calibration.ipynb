{
 "cells": [
  {
   "cell_type": "code",
   "execution_count": null,
   "metadata": {
    "colab": {
     "base_uri": "https://localhost:8080/"
    },
    "executionInfo": {
     "elapsed": 23410,
     "status": "ok",
     "timestamp": 1679833193919,
     "user": {
      "displayName": "to my",
      "userId": "16896491027087005599"
     },
     "user_tz": -540
    },
    "id": "CTnikflpEdJK",
    "outputId": "0c731f28-0bbf-4098-99c4-748305a9371b"
   },
   "outputs": [],
   "source": [
    "from google.colab import drive\n",
    "drive.mount('/content/drive')"
   ]
  },
  {
   "cell_type": "code",
   "execution_count": null,
   "metadata": {
    "colab": {
     "base_uri": "https://localhost:8080/"
    },
    "executionInfo": {
     "elapsed": 372,
     "status": "ok",
     "timestamp": 1679833194289,
     "user": {
      "displayName": "to my",
      "userId": "16896491027087005599"
     },
     "user_tz": -540
    },
    "id": "wgxA6ArfEh5R",
    "outputId": "21ede721-1c09-4a46-dddc-fbe617ad0323"
   },
   "outputs": [],
   "source": [
    "%cd /content/drive/MyDrive/Colab Notebooks/example/"
   ]
  },
  {
   "cell_type": "code",
   "execution_count": null,
   "metadata": {
    "executionInfo": {
     "elapsed": 1684,
     "status": "ok",
     "timestamp": 1679833195971,
     "user": {
      "displayName": "to my",
      "userId": "16896491027087005599"
     },
     "user_tz": -540
    },
    "id": "quEqC3lhEV10"
   },
   "outputs": [],
   "source": [
    "from matplotlib import pyplot as plt\n",
    "import numpy as np\n",
    "import cv2\n",
    "import glob\n",
    "import sys\n",
    "import os\n",
    "from PIL import Image \n",
    "from typing_extensions import ParamSpecArgs\n",
    "np.set_printoptions(suppress=True)"
   ]
  },
  {
   "cell_type": "code",
   "execution_count": null,
   "metadata": {
    "executionInfo": {
     "elapsed": 13,
     "status": "ok",
     "timestamp": 1679833195971,
     "user": {
      "displayName": "to my",
      "userId": "16896491027087005599"
     },
     "user_tz": -540
    },
    "id": "RQbigS81peDP"
   },
   "outputs": [],
   "source": [
    "# Object points in 3D\n",
    "GRID_SHAPE = (8,6)\n",
    "objp = np.zeros((GRID_SHAPE[0]*GRID_SHAPE[1],3), np.float32)\n",
    "objp[:,:2] = np.mgrid[0:GRID_SHAPE[0], 0:GRID_SHAPE[1]].T.reshape(-1,2)\n",
    "objp *= 20 # One square on my grid has 20mm"
   ]
  },
  {
   "cell_type": "code",
   "execution_count": null,
   "metadata": {
    "colab": {
     "base_uri": "https://localhost:8080/",
     "height": 1000
    },
    "executionInfo": {
     "elapsed": 22838,
     "status": "ok",
     "timestamp": 1679833218806,
     "user": {
      "displayName": "to my",
      "userId": "16896491027087005599"
     },
     "user_tz": -540
    },
    "id": "LT3h30YFOMap",
    "outputId": "0c3c886c-d483-41f9-9023-d0b6c007edac"
   },
   "outputs": [],
   "source": [
    "#1.Load checkerboard image\n",
    "FOLDER = \"20230320_stereo_checkerboard/side/diffuse/\"\n",
    "fnames = os.listdir(FOLDER)\n",
    "obj_pts = []\n",
    "img_pts = []\n",
    "\n",
    "\n",
    "for fname in fnames:\n",
    "    print(f\"processing {fname}\")\n",
    "    img = Image.open(FOLDER+fname).convert(\"L\")\n",
    "    arr = np.array(img)\n",
    "    \n",
    "    flags = cv2.CALIB_CB_ADAPTIVE_THRESH + cv2.CALIB_CB_NORMALIZE_IMAGE + cv2.CALIB_CB_FAST_CHECK\n",
    "    ret, corners = cv2.findChessboardCorners(arr, GRID_SHAPE, flags)\n",
    "    \n",
    "    arr_vis = cv2.drawChessboardCorners(arr, GRID_SHAPE, corners, ret)\n",
    "    plt.imshow(arr_vis, cmap='gray')\n",
    "    plt.show()\n",
    "\n",
    "    if ret:\n",
    "        criteria = (cv2.TERM_CRITERIA_EPS + cv2.TERM_CRITERIA_MAX_ITER, 30, 0.001)\n",
    "        # criteria = (cv2.TERM_CRITERIA_EPS + cv2.TERM_CRITERIA_MAX_ITER, 25, 0.001)\n",
    "        corners_subpix = cv2.cornerSubPix(arr,corners,(11,11),(-1,-1),criteria)\n",
    "        obj_pts.append(objp)\n",
    "        img_pts.append(corners_subpix)"
   ]
  },
  {
   "cell_type": "code",
   "execution_count": null,
   "metadata": {
    "colab": {
     "base_uri": "https://localhost:8080/"
    },
    "executionInfo": {
     "elapsed": 768,
     "status": "ok",
     "timestamp": 1679833864547,
     "user": {
      "displayName": "to my",
      "userId": "16896491027087005599"
     },
     "user_tz": -540
    },
    "id": "7TsOg_9BPnK4",
    "outputId": "7a5545de-b621-4c3b-f504-75ef68090791"
   },
   "outputs": [],
   "source": [
    "#2.Compute left camera calibrate matrix\n",
    "ret, K_l, dist_coeff_l, rvecs, tvecs = cv2.calibrateCamera(obj_pts, img_pts, (arr.shape[1], arr.shape[0]), None,None)"
   ]
  },
  {
   "cell_type": "code",
   "execution_count": null,
   "metadata": {
    "id": "VQW1DhLwPrXi"
   },
   "outputs": [],
   "source": [
    "img = Image.open(FOLDER+\"00.png\")\n",
    "arr = np.array(img)\n",
    "\n",
    "arr_corr = cv2.undistort(arr, K_l, dist_coeff_l, None, K_l)\n",
    "\n",
    "fig, (ax1, ax2) = plt.subplots(1, 2, figsize=(20,10))\n",
    "ax1.imshow(arr, cmap='gray')\n",
    "ax2.imshow(arr_corr, cmap='gray')\n",
    "plt.show()"
   ]
  },
  {
   "cell_type": "code",
   "execution_count": null,
   "metadata": {
    "id": "pOanSCwUPybd"
   },
   "outputs": [],
   "source": [
    "FOLDER = \"20230320_stereo_checkerboard/main/diffuse/\"\n",
    "fnames = os.listdir(FOLDER)\n",
    "obj_pts = []\n",
    "img_pts = []\n",
    "\n",
    "\n",
    "for fname in fnames:\n",
    "    print(f\"processing {fname}\")\n",
    "    img = Image.open(FOLDER+fname).convert(\"L\")\n",
    "    arr = np.array(img)\n",
    "    \n",
    "    flags = cv2.CALIB_CB_ADAPTIVE_THRESH + cv2.CALIB_CB_NORMALIZE_IMAGE + cv2.CALIB_CB_FAST_CHECK\n",
    "    ret, corners = cv2.findChessboardCorners(arr, GRID_SHAPE, flags)\n",
    "    \n",
    "    arr_vis = cv2.drawChessboardCorners(arr, GRID_SHAPE, corners, ret)\n",
    "    plt.imshow(arr_vis, cmap='gray')\n",
    "    plt.show()\n",
    "\n",
    "    if ret:\n",
    "        criteria = (cv2.TERM_CRITERIA_EPS + cv2.TERM_CRITERIA_MAX_ITER, 30, 0.001)\n",
    "        # criteria = (cv2.TERM_CRITERIA_EPS + cv2.TERM_CRITERIA_MAX_ITER, 25, 0.001)\n",
    "        corners_subpix = cv2.cornerSubPix(arr,corners,(11,11),(-1,-1),criteria)\n",
    "        obj_pts.append(objp)\n",
    "        img_pts.append(corners_subpix)"
   ]
  },
  {
   "cell_type": "code",
   "execution_count": null,
   "metadata": {
    "executionInfo": {
     "elapsed": 624,
     "status": "ok",
     "timestamp": 1679833874610,
     "user": {
      "displayName": "to my",
      "userId": "16896491027087005599"
     },
     "user_tz": -540
    },
    "id": "29ni01cxQQhv"
   },
   "outputs": [],
   "source": [
    "#3.Compute right camera calibrate matrix\n",
    "ret, K_r, dist_coeff_r, rvecs, tvecs = cv2.calibrateCamera(obj_pts, img_pts, (arr.shape[1], arr.shape[0]), None, None)"
   ]
  },
  {
   "cell_type": "code",
   "execution_count": null,
   "metadata": {
    "executionInfo": {
     "elapsed": 2,
     "status": "ok",
     "timestamp": 1679833385304,
     "user": {
      "displayName": "to my",
      "userId": "16896491027087005599"
     },
     "user_tz": -540
    },
    "id": "FlP1pgpQ2ws1"
   },
   "outputs": [],
   "source": [
    "rotation_matrix = np.zeros(shape=(3,3))\n",
    "cv2.Rodrigues(np.array(rvecs)[1], rotation_matrix)\n",
    "#Apply rotation matrix to point\n",
    "original_point = np.matrix([[1],[0],[0]])\n",
    "rotated_point = rotation_matrix*original_point"
   ]
  },
  {
   "cell_type": "code",
   "execution_count": null,
   "metadata": {
    "colab": {
     "base_uri": "https://localhost:8080/",
     "height": 476
    },
    "executionInfo": {
     "elapsed": 1260,
     "status": "ok",
     "timestamp": 1679823652084,
     "user": {
      "displayName": "to my",
      "userId": "16896491027087005599"
     },
     "user_tz": -540
    },
    "id": "sZxuzy01QRws",
    "outputId": "eb533d65-0316-4a9e-bbb6-a1b8841d1bd4"
   },
   "outputs": [],
   "source": [
    "img = Image.open(FOLDER+\"00.png\")\n",
    "arr = np.array(img)\n",
    "\n",
    "arr_corr = cv2.undistort(arr, K_r, dist_coeff_r, None, K_l)\n",
    "\n",
    "fig, (ax1, ax2) = plt.subplots(1, 2, figsize=(20,10))\n",
    "ax1.imshow(arr, cmap='gray')\n",
    "ax2.imshow(arr_corr, cmap='gray')\n",
    "plt.show()"
   ]
  },
  {
   "cell_type": "code",
   "execution_count": null,
   "metadata": {
    "executionInfo": {
     "elapsed": 4,
     "status": "ok",
     "timestamp": 1679823652084,
     "user": {
      "displayName": "to my",
      "userId": "16896491027087005599"
     },
     "user_tz": -540
    },
    "id": "OZY6xbVhQRy7"
   },
   "outputs": [],
   "source": [
    "np.save(\"K_l.npy\", K_l)\n",
    "np.save(\"K_r.npy\", K_r)\n",
    "\n",
    "np.save(\"dist_coeff_l.npy\", dist_coeff_l)\n",
    "np.save(\"dist_coeff_r.npy\", dist_coeff_r)"
   ]
  },
  {
   "cell_type": "code",
   "execution_count": null,
   "metadata": {
    "executionInfo": {
     "elapsed": 4,
     "status": "ok",
     "timestamp": 1679823652084,
     "user": {
      "displayName": "to my",
      "userId": "16896491027087005599"
     },
     "user_tz": -540
    },
    "id": "VpDJVPEfQR04"
   },
   "outputs": [],
   "source": [
    "# Object points in 3D\n",
    "GRID_SHAPE = (8,6)\n",
    "objp = np.zeros((GRID_SHAPE[0]*GRID_SHAPE[1],3), np.float32)\n",
    "objp[:,:2] = np.mgrid[0:GRID_SHAPE[0], 0:GRID_SHAPE[1]].T.reshape(-1,2)\n",
    "objp *= 20 # One square on my grid has 20mm"
   ]
  },
  {
   "cell_type": "code",
   "execution_count": null,
   "metadata": {
    "executionInfo": {
     "elapsed": 4,
     "status": "ok",
     "timestamp": 1679823652084,
     "user": {
      "displayName": "to my",
      "userId": "16896491027087005599"
     },
     "user_tz": -540
    },
    "id": "tZxFHP3PQR23"
   },
   "outputs": [],
   "source": [
    "folder_right = \"20230320_stereo_checkerboard/main/diffuse/\"\n",
    "folder_left = \"20230320_stereo_checkerboard/side/diffuse/\"\n",
    "# folder_right = \"/content/drive/MyDrive/Colab Notebooks/example/new_calibrated_images_30/main\"\n",
    "# folder_left = \"/content/drive/MyDrive/Colab Notebooks/example/new_calibrated_images_30/side\""
   ]
  },
  {
   "cell_type": "code",
   "execution_count": null,
   "metadata": {
    "executionInfo": {
     "elapsed": 4,
     "status": "ok",
     "timestamp": 1679823652084,
     "user": {
      "displayName": "to my",
      "userId": "16896491027087005599"
     },
     "user_tz": -540
    },
    "id": "hgNDb3VMQR4x"
   },
   "outputs": [],
   "source": [
    "# Load parameters\n",
    "(K_l, K_r, dist_l, dist_r) = np.load(\"K_l.npy\"), np.load(\"K_r.npy\"), np.load(\"dist_coeff_l.npy\"), np.load(\"dist_coeff_r.npy\")"
   ]
  },
  {
   "cell_type": "code",
   "execution_count": null,
   "metadata": {
    "id": "AtmtUrcoQR7B"
   },
   "outputs": [],
   "source": [
    "obj_pts = []\n",
    "img_pts_l, img_pts_r = [], []\n",
    "\n",
    "for fname_l, fname_r in zip(sorted(os.listdir(folder_left)), sorted(os.listdir(folder_right))):\n",
    "    print(f\"processing {fname_l, fname_r}\")\n",
    "    img_l, img_r = Image.open(folder_left + fname_l).convert(\"L\"), Image.open(folder_right + fname_r).convert(\"L\")\n",
    "    arr_l, arr_r = np.array(img_l), np.array(img_r)\n",
    "    gray_l, gray_r  = arr_l, arr_r # the images are already grayscale so no conversion\n",
    "\n",
    "    flags = cv2.CALIB_CB_ADAPTIVE_THRESH + cv2.CALIB_CB_NORMALIZE_IMAGE + cv2.CALIB_CB_FAST_CHECK\n",
    "    ret_l, corners_l = cv2.findChessboardCorners(gray_l, GRID_SHAPE, flags)\n",
    "    ret_r, corners_r = cv2.findChessboardCorners(gray_r, GRID_SHAPE, flags)\n",
    "\n",
    "    # if ret_l and ret_r:\n",
    "    criteria = (cv2.TERM_CRITERIA_EPS + cv2.TERM_CRITERIA_MAX_ITER, 30, 0.001)\n",
    "    # criteria = (cv2.TERM_CRITERIA_EPS + cv2.TERM_CRITERIA_MAX_ITER, 25, 0.001)\n",
    "    corners_subpix_l = cv2.cornerSubPix(gray_l, corners_l, (11,11), (-1,-1), criteria)\n",
    "    corners_subpix_r = cv2.cornerSubPix(gray_r, corners_r, (11,11), (-1,-1), criteria)\n",
    "\n",
    "    obj_pts.append(objp)\n",
    "    img_pts_l.append(corners_subpix_l)\n",
    "    img_pts_r.append(corners_subpix_r)"
   ]
  },
  {
   "cell_type": "code",
   "execution_count": null,
   "metadata": {
    "id": "ty44XVMESQ5q"
   },
   "outputs": [],
   "source": [
    "flags = 0\n",
    "flags |= cv2.CALIB_FIX_INTRINSIC\n",
    "\n",
    "criteria_stereo= (cv2.TERM_CRITERIA_EPS + cv2.TERM_CRITERIA_MAX_ITER, 30, 0.001)\n",
    "\n",
    "\n",
    "# This step is performed to transformation between the two cameras and calculate Essential and Fundamenatl matrix\n",
    "retS, K_l, dist_l, K_r, dist_r, Rot, Trns, Emat, Fmat = cv2.stereoCalibrate(\n",
    "    obj_pts,\n",
    "    img_pts_l,\n",
    "    img_pts_r,\n",
    "    K_l, dist_l,\n",
    "    K_r, dist_r,\n",
    "    gray_l.shape[::-1],\n",
    "    criteria_stereo,\n",
    "    flags)"
   ]
  },
  {
   "cell_type": "code",
   "execution_count": null,
   "metadata": {
    "id": "hlKh4NfDS34E"
   },
   "outputs": [],
   "source": [
    "\n",
    "rect_l, rect_r, proj_mat_l, proj_mat_r, Q, roiL, roiR = cv2.stereoRectify(K_l, dist_l, K_r, dist_r, gray_l.shape[::-1], Rot, Trns, 1 ,(0,0))"
   ]
  },
  {
   "cell_type": "code",
   "execution_count": null,
   "metadata": {
    "id": "GXGq9I-Yiy1n"
   },
   "outputs": [],
   "source": [
    "np.save(\"Rot.npy\", Rot)\n",
    "np.save(\"Trns.npy\", Trns)"
   ]
  },
  {
   "cell_type": "code",
   "execution_count": null,
   "metadata": {
    "id": "yIzI8Z8LS36J"
   },
   "outputs": [],
   "source": [
    "left_stereo_maps = cv2.initUndistortRectifyMap(K_l, dist_l, rect_l, proj_mat_l,\n",
    "                                             gray_l.shape[::-1], cv2.CV_16SC2)\n",
    "right_stereo_maps = cv2.initUndistortRectifyMap(K_r, dist_r, rect_r, proj_mat_r,\n",
    "                                              gray_l.shape[::-1], cv2.CV_16SC2)"
   ]
  },
  {
   "cell_type": "code",
   "execution_count": null,
   "metadata": {
    "id": "ytbhaXD5S38P"
   },
   "outputs": [],
   "source": [
    "arr_l_rect = cv2.remap(arr_l, left_stereo_maps[0],left_stereo_maps[1], cv2.INTER_LANCZOS4, cv2.BORDER_CONSTANT, 0)\n",
    "arr_r_rect = cv2.remap(arr_r, right_stereo_maps[0],right_stereo_maps[1], cv2.INTER_LANCZOS4, cv2.BORDER_CONSTANT, 0)"
   ]
  },
  {
   "cell_type": "code",
   "execution_count": null,
   "metadata": {
    "id": "ifeJ3aFhS3-j"
   },
   "outputs": [],
   "source": [
    "# folder_right = \"20230317_seokjun/main/diffuse/\"\n",
    "# folder_left = \"20230317_seokjun/side/diffuse/\"\n",
    "\n",
    "# folder_left = \"20230320_stereo_checkerboard/side/diffuse/\"\n",
    "# folder_right = \"20230320_stereo_checkerboard/main/diffuse/\"\n",
    "# folder_right = \"20230317_multiple_object/main/polar0/\"\n",
    "# folder_left = \"20230317_multiple_object/side/polar0/\"\n",
    "folder_right = \"20230317_full_data/main/\"\n",
    "folder_left = \"20230317_full_data/side/\"\n",
    "\n",
    "#4.Undistortion and Rectification \n",
    "for fname_l, fname_r in zip(sorted(os.listdir(folder_left)), sorted(os.listdir(folder_right))):\n",
    "    \n",
    "    print(f\"Images L: {fname_l}, R: {fname_r}\")\n",
    "\n",
    "    img_l, img_r = Image.open(folder_left + fname_l), Image.open(folder_right + fname_r)\n",
    "    arr_l, arr_r = np.array(img_l), np.array(img_r)\n",
    "    \n",
    "    arr_l_rect = cv2.remap(arr_l, left_stereo_maps[0],left_stereo_maps[1], cv2.INTER_LANCZOS4, cv2.BORDER_CONSTANT, 0)\n",
    "    arr_r_rect = cv2.remap(arr_r, right_stereo_maps[0],right_stereo_maps[1], cv2.INTER_LANCZOS4, cv2.BORDER_CONSTANT, 0)\n",
    "    \n",
    "    fig, [(ax1, ax2), (ax3, ax4)] = plt.subplots(2, 2, figsize=(10,3))\n",
    "    \n",
    "    # before\n",
    "    ax1.imshow(arr_l[100:200,:], cmap='binary')\n",
    "    ax2.imshow(arr_r[100:200,:], cmap='binary')\n",
    "    \n",
    "    ax1.title.set_text('Original L')\n",
    "    ax2.title.set_text('Original R')\n",
    "\n",
    "    \n",
    "    # after\n",
    "    ax3.imshow(arr_l_rect[100:200,:], cmap='gray')\n",
    "    ax4.imshow(arr_r_rect[100:200,:], cmap='gray')\n",
    "    \n",
    "    ax3.title.set_text('Rectified L')\n",
    "    ax4.title.set_text('Rectified R')\n",
    "    plt.show()\n",
    "\n",
    "    arr_l_rect=cv2.cvtColor(arr_l_rect, cv2.COLOR_RGB2BGR)\n",
    "    arr_r_rect=cv2.cvtColor(arr_r_rect, cv2.COLOR_RGB2BGR)\n",
    "    cv2.imwrite('/content/drive/MyDrive/Colab Notebooks/example/new_calibrated_images_30/side/{0}'.format(fname_l), arr_l_rect)\n",
    "    cv2.imwrite('/content/drive/MyDrive/Colab Notebooks/example/new_calibrated_images_30/main/{0}'.format(fname_r), arr_r_rect)"
   ]
  }
 ],
 "metadata": {
  "colab": {
   "authorship_tag": "ABX9TyPRqZZewx3Q9Lt8IJuNN1SM",
   "provenance": []
  },
  "kernelspec": {
   "display_name": "Python 3 (ipykernel)",
   "language": "python",
   "name": "python3"
  },
  "language_info": {
   "codemirror_mode": {
    "name": "ipython",
    "version": 3
   },
   "file_extension": ".py",
   "mimetype": "text/x-python",
   "name": "python",
   "nbconvert_exporter": "python",
   "pygments_lexer": "ipython3",
   "version": "3.11.0"
  }
 },
 "nbformat": 4,
 "nbformat_minor": 1
}
