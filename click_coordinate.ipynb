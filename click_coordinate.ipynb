{
 "cells": [
  {
   "cell_type": "code",
   "execution_count": null,
   "id": "a61dc1a8",
   "metadata": {},
   "outputs": [],
   "source": [
    "import cv2\n",
    "import numpy as np\n",
    "import matplotlib.pyplot as plt"
   ]
  },
  {
   "cell_type": "code",
   "execution_count": null,
   "id": "a95e3ee5",
   "metadata": {},
   "outputs": [],
   "source": [
    "import cv2\n",
    "import numpy as np\n",
    "\n",
    "isDragging = False                         # 마우스 드래그 상태 저장\n",
    "x0,y0,w,h = -1,-1,-1,-1                    # 영역 선택 좌표 저장\n",
    "blue,red = (255,0,0),(0,0,255)              # 색상 값\n",
    "\n",
    "def onMouse(event, x, y, flags, param):     # 마우스 이벤트 핸들 함수\n",
    "    global isDragging, x0, y0, img          # 전역 변수 참조\n",
    "    if event == cv2.EVENT_LBUTTONDOWN:      # 왼쪽 마우스 버튼 다운, 드래그 시작\n",
    "        isDragging = True\n",
    "        x0 = x\n",
    "        y0 = y\n",
    "        print(x0,y0)"
   ]
  },
  {
   "cell_type": "code",
   "execution_count": null,
   "id": "7670b1e2",
   "metadata": {},
   "outputs": [],
   "source": [
    "img = cv2.imread('Downloads/final/mini_data/main/polar0_main.png')\n",
    "cv2.imshow('img', img)\n",
    "cv2.setMouseCallback('img', onMouse) # 마우스 이벤트 등록\n",
    "cv2.waitKey()\n",
    "cv2.destroyAllWindows()"
   ]
  },
  {
   "cell_type": "code",
   "execution_count": null,
   "id": "24aa6d55",
   "metadata": {},
   "outputs": [],
   "source": [
    "img = cv2.imread('Downloads/final/mini_data/ㄴ/polar0_side.png')\n",
    "cv2.imshow('img', img)\n",
    "cv2.setMouseCallback('img', onMouse) # 마우스 이벤트 등록\n",
    "cv2.waitKey()\n",
    "cv2.destroyAllWindows() "
   ]
  },
  {
   "cell_type": "code",
   "execution_count": null,
   "id": "794cb16f",
   "metadata": {},
   "outputs": [],
   "source": []
  }
 ],
 "metadata": {
  "kernelspec": {
   "display_name": "test",
   "language": "python",
   "name": "test"
  },
  "language_info": {
   "codemirror_mode": {
    "name": "ipython",
    "version": 3
   },
   "file_extension": ".py",
   "mimetype": "text/x-python",
   "name": "python",
   "nbconvert_exporter": "python",
   "pygments_lexer": "ipython3",
   "version": "3.11.0"
  }
 },
 "nbformat": 4,
 "nbformat_minor": 5
}
